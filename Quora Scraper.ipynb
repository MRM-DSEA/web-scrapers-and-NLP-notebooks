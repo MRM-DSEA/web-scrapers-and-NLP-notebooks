{
 "cells": [
  {
   "cell_type": "code",
   "execution_count": 1,
   "metadata": {},
   "outputs": [],
   "source": [
    "import urllib\n",
    "import requests\n",
    "from bs4 import BeautifulSoup\n",
    "import pandas as pd\n",
    "import time\n",
    "from selenium import webdriver\n",
    "from selenium.webdriver.common.keys import Keys\n",
    "from selenium.webdriver.common.action_chains import ActionChains\n",
    "import csv\n",
    "import re\n",
    "import os"
   ]
  },
  {
   "cell_type": "code",
   "execution_count": 2,
   "metadata": {},
   "outputs": [],
   "source": [
    "def topicCrawl(url):\n",
    "    \n",
    "    \"\"\"Crawls through infinite scroll topic page and grabs the urls for every answer.  \n",
    "    URL must be in the form 'https://www.quora.com/topic/Irritable-Bowel-Syndrome' to work.  \n",
    "    Returns list of URLs\"\"\"\n",
    "\n",
    "    linklist = []\n",
    "    browser = webdriver.Chrome(executable_path='C:\\\\Users\\\\jon.driscoll\\\\Downloads\\\\chromedriver')\n",
    "    browser.get(url)\n",
    "    time.sleep(1)\n",
    "    elem = browser.find_element_by_tag_name(\"body\")\n",
    "    no_of_pagedowns = 100\n",
    "    while no_of_pagedowns:\n",
    "        elem.send_keys(Keys.PAGE_DOWN)\n",
    "        time.sleep(0.2)\n",
    "        no_of_pagedowns-=1\n",
    "    post_elems =browser.find_elements_by_xpath('//a[@class=\"q-box qu-cursor--pointer qu-hover--textDecoration--underline\"]')\n",
    "    for post in post_elems:\n",
    "        qlink = post.get_attribute(\"href\")\n",
    "        linklist.append(qlink)\n",
    "    return linklist"
   ]
  },
  {
   "cell_type": "code",
   "execution_count": 3,
   "metadata": {},
   "outputs": [],
   "source": [
    "def questionCrawl(url, browser, language = 'en'):\n",
    "    commentlist = []\n",
    "    #browser = webdriver.Chrome(executable_path='C:\\\\Users\\\\jon.driscoll\\\\.wdm\\\\drivers\\\\chromedriver\\\\win32\\\\88.0.4324.96')\n",
    "    browser.get(url)\n",
    "    elem = browser.find_element_by_tag_name(\"body\")\n",
    "    question = url.split('/')[-1].replace('-',' ')\n",
    "    no_of_pagedowns = 50\n",
    "    while no_of_pagedowns:\n",
    "        try:\n",
    "            elem_more = elem.find_element_by_xpath('//div[text()=\"Continue Reading\"]')\n",
    "            Hover = ActionChains(browser).move_to_element(elem_more)\n",
    "            Hover.click(elem_more).perform()\n",
    "        except:\n",
    "            pass\n",
    "        try:\n",
    "            elem.send_keys(Keys.PAGE_DOWN)\n",
    "            time.sleep(0.2)\n",
    "            no_of_pagedowns-=1\n",
    "            elem_more = elem.find_element_by_xpath('//div[text()=\"Continue Reading\"]')\n",
    "            Hover = ActionChains(browser).move_to_element(elem_more)\n",
    "            Hover.click(elem_more).perform()\n",
    "        except:\n",
    "            pass\n",
    "    allqtext = browser.find_elements_by_xpath('//p[@class=\"q-text qu-display--block\"]')\n",
    "    for q in allqtext:\n",
    "        commentlist.append(q.text)\n",
    "    df = pd.DataFrame()\n",
    "    df['Question'] = question\n",
    "    df['Answer'] = commentlist\n",
    "    df['URL'] = url\n",
    "    return df"
   ]
  },
  {
   "cell_type": "code",
   "execution_count": 4,
   "metadata": {},
   "outputs": [],
   "source": [
    "def searchCrawl(query,browser, no_of_pagedowns = 10, language = 'en'):\n",
    "    \n",
    "    \"\"\"Crawls through infinite scroll topic page and grabs the urls for every answer.  \n",
    "    URL must be in the form 'https://www.quora.com/search?q=query%20goes%20here to work.  \n",
    "    Returns list of URLs\"\"\"\n",
    "    \n",
    "    \n",
    "    \"\"\"Quora is available in 4 languages, which you can select with the language argument.  options are:\n",
    "    'en' for English (default)\n",
    "    'pt' for Portugese (includes Portugal as well as Brazil)\n",
    "    'it' for Italian\n",
    "    'es' for Spanish\"\"\"\n",
    "    query = query.replace(' ', '%20')\n",
    "    url = f'https://{language}.quora.com/search?q=' + query \n",
    "    linklist = []\n",
    "    #browser = webdriver.Chrome(executable_path='C:\\\\Users\\\\jon.driscoll\\\\.wdm\\\\drivers\\\\chromedriver\\\\win32\\\\88.0.4324.96')\n",
    "    browser.get(url)\n",
    "    time.sleep(1)\n",
    "    elem = browser.find_element_by_tag_name(\"body\")\n",
    "    no_of_pagedowns = no_of_pagedowns\n",
    "    while no_of_pagedowns:\n",
    "        try:\n",
    "            elem.send_keys(Keys.PAGE_DOWN)\n",
    "            time.sleep(0.5)\n",
    "            no_of_pagedowns-=1\n",
    "            post_elems =browser.find_elements_by_xpath('//a[@class=\"q-box qu-display--block qu-cursor--pointer qu-hover--textDecoration--underline Link___StyledBox-t2xg9c-0 roKEj\"]')\n",
    "            for post in post_elems:\n",
    "                qlink = post.get_attribute(\"href\")\n",
    "                linklist.append(qlink)\n",
    "        except:\n",
    "            pass\n",
    "    linklist = list(dict.fromkeys(linklist))\n",
    "    return linklist"
   ]
  },
  {
   "cell_type": "code",
   "execution_count": 5,
   "metadata": {},
   "outputs": [],
   "source": [
    "def quoraCrawl(query, no_of_pagedowns = 100, language = 'en'):\n",
    "    browser = webdriver.Chrome(executable_path='C:\\\\Users\\\\jon.driscoll\\\\Downloads\\\\chromedriver')\n",
    "    urls = searchCrawl(query, browser, no_of_pagedowns = no_of_pagedowns, language = language)\n",
    "    dflist = []\n",
    "    for url in urls:\n",
    "        df = questionCrawl(url, browser, language = language)\n",
    "        df['Question'] = url.split('/')[-1].replace('-',' ')\n",
    "        dflist.append(df)\n",
    "    dfconcat = pd.concat(dflist)\n",
    "    dfconcat['Query'] = query\n",
    "    dfconcat.to_csv(query + '.csv')"
   ]
  },
  {
   "cell_type": "code",
   "execution_count": 6,
   "metadata": {},
   "outputs": [],
   "source": [
    "keywords = ['ansiedad',\n",
    "'inquieto',\n",
    "'insomne',\n",
    "'insomnio',\n",
    "'depresión',\n",
    "'Deprimido',\n",
    "'preocuparse',\n",
    "'estrés',\n",
    "'estresado',\n",
    "'bienestar',\n",
    "'salud',\n",
    "'fatiga',\n",
    "'salud mental',\n",
    "'bienestar mental',\n",
    "'triste',\n",
    "'tristeza',\n",
    "'dolor en las articulaciones',\n",
    "'articulaciones adoloridas',\n",
    "'energía',\n",
    "'estado animico',\n",
    "'estimulante del humor',\n",
    "'remedio de hierbas',\n",
    "'suplemento herbario',\n",
    "'refuerzo de la inmunidad',\n",
    "'inmunidad',\n",
    "'el apoyo del estado de ánimo',\n",
    "'multivitamina',\n",
    "'colágeno hidrolizado',\n",
    "]"
   ]
  },
  {
   "cell_type": "code",
   "execution_count": null,
   "metadata": {},
   "outputs": [
    {
     "name": "stdout",
     "output_type": "stream",
     "text": [
      "ansiedad\n"
     ]
    }
   ],
   "source": [
    "for keyword in keywords:\n",
    "    print(keyword)\n",
    "    quoraCrawl(keyword, no_of_pagedowns = 10, language = 'en')"
   ]
  },
  {
   "cell_type": "code",
   "execution_count": null,
   "metadata": {},
   "outputs": [],
   "source": []
  }
 ],
 "metadata": {
  "kernelspec": {
   "display_name": "Python 3",
   "language": "python",
   "name": "python3"
  },
  "language_info": {
   "codemirror_mode": {
    "name": "ipython",
    "version": 3
   },
   "file_extension": ".py",
   "mimetype": "text/x-python",
   "name": "python",
   "nbconvert_exporter": "python",
   "pygments_lexer": "ipython3",
   "version": "3.7.4"
  },
  "varInspector": {
   "cols": {
    "lenName": 16,
    "lenType": 16,
    "lenVar": 40
   },
   "kernels_config": {
    "python": {
     "delete_cmd_postfix": "",
     "delete_cmd_prefix": "del ",
     "library": "var_list.py",
     "varRefreshCmd": "print(var_dic_list())"
    },
    "r": {
     "delete_cmd_postfix": ") ",
     "delete_cmd_prefix": "rm(",
     "library": "var_list.r",
     "varRefreshCmd": "cat(var_dic_list()) "
    }
   },
   "types_to_exclude": [
    "module",
    "function",
    "builtin_function_or_method",
    "instance",
    "_Feature"
   ],
   "window_display": false
  }
 },
 "nbformat": 4,
 "nbformat_minor": 2
}
