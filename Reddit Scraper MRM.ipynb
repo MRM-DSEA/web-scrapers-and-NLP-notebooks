{
 "cells": [
  {
   "cell_type": "code",
   "execution_count": 1,
   "metadata": {},
   "outputs": [
    {
     "name": "stderr",
     "output_type": "stream",
     "text": [
      "Version 7.1.0 of praw is outdated. Version 7.2.0 was released Wednesday February 24, 2021.\n"
     ]
    }
   ],
   "source": [
    "import time\n",
    "import praw\n",
    "import pandas as pd\n",
    "from tqdm import tqdm\n",
    "reddit = praw.Reddit(client_id='-NE-FHDyOwCOIw',\n",
    "                     client_secret='h59x0JNXAcj3vPYDZ6sBII-9bzBiCA',\n",
    "                     user_agent= 'mrm_dsea_app',\n",
    "                     username='MRM_DSEA',\n",
    "                     password='Lexington622!')"
   ]
  },
  {
   "cell_type": "code",
   "execution_count": 2,
   "metadata": {},
   "outputs": [
    {
     "name": "stderr",
     "output_type": "stream",
     "text": [
      "100it [00:02, 43.21it/s]\n",
      "100%|██████████████████████████████████████████████████████████████████████████████████| 56/56 [00:35<00:00,  1.59it/s]\n"
     ]
    }
   ],
   "source": [
    "### For searching within a specific subreddit \n",
    "results = []\n",
    "url_list = []\n",
    "subreddit = 'all'\n",
    "query = '(buy vauxhall) OR (buy Vauxhall) OR (purchase vauxhall) OR (purchase Vauxhall) \\\n",
    "          OR (buy Corsa) OR (purchase Corsa) OR (buy Astra) OR (purchase Astra)'\n",
    "filename = f\"{subreddit}_{query}.csv\"\n",
    "for sub in tqdm(reddit.subreddit(subreddit).search(query)):\n",
    "    url_list.append(sub.url)\n",
    "\n",
    "df1 = pd.DataFrame(url_list, columns=[\"Links\"])\n",
    "df1 = df1[df1[\"Links\"].str.contains('/comments/')]\n",
    "links = df1[\"Links\"]\n",
    "for posts in tqdm(links):\n",
    "    try:\n",
    "        submission = reddit.submission(url=posts)\n",
    "        title = submission.title\n",
    "        text = submission.selftext\n",
    "        sub_author = submission.author\n",
    "        url = submission.url\n",
    "        submission.comments.replace_more(limit=None)\n",
    "        for comment in submission.comments.list():\n",
    "            comment_body = comment.body\n",
    "            comment_author = comment.author\n",
    "            data = {\"submission_url\": url,\n",
    "                        \"title\": title,\n",
    "                        \"submission_text\": text,\n",
    "                        \"submission_author\": sub_author,\n",
    "                        \"comment\": comment_body,\n",
    "                        \"comment_author\": comment_author}\n",
    "            results.append(data)\n",
    "    except:\n",
    "        print('cannot process', ' ', posts)\n",
    "        pass\n",
    "df_main = pd.DataFrame(results)\n",
    "df_main.to_csv(f\"C:\\\\Users\\\\jon.driscoll\\\\Documents\\\\Vauxhall\\\\Search Linguistics Intent\\\\{filename}\",  index=False)"
   ]
  },
  {
   "cell_type": "code",
   "execution_count": 25,
   "metadata": {},
   "outputs": [],
   "source": [
    "df_main.to_csv(\"probiotics_eng_it_mx.csv\", encoding='utf-8-sig', index = False)"
   ]
  },
  {
   "cell_type": "code",
   "execution_count": 16,
   "metadata": {},
   "outputs": [],
   "source": [
    "subreddit = 'TopDrives'\n",
    "query = 'Vauxhall'\n",
    "filename = f\"{subreddit}_{query}.csv\""
   ]
  },
  {
   "cell_type": "code",
   "execution_count": 17,
   "metadata": {},
   "outputs": [
    {
     "data": {
      "text/plain": [
       "'TopDrives_Vauxhall.csv'"
      ]
     },
     "execution_count": 17,
     "metadata": {},
     "output_type": "execute_result"
    }
   ],
   "source": [
    "filename"
   ]
  },
  {
   "cell_type": "code",
   "execution_count": null,
   "metadata": {},
   "outputs": [],
   "source": []
  }
 ],
 "metadata": {
  "kernelspec": {
   "display_name": "Python 3",
   "language": "python",
   "name": "python3"
  },
  "language_info": {
   "codemirror_mode": {
    "name": "ipython",
    "version": 3
   },
   "file_extension": ".py",
   "mimetype": "text/x-python",
   "name": "python",
   "nbconvert_exporter": "python",
   "pygments_lexer": "ipython3",
   "version": "3.7.4"
  },
  "varInspector": {
   "cols": {
    "lenName": 16,
    "lenType": 16,
    "lenVar": 40
   },
   "kernels_config": {
    "python": {
     "delete_cmd_postfix": "",
     "delete_cmd_prefix": "del ",
     "library": "var_list.py",
     "varRefreshCmd": "print(var_dic_list())"
    },
    "r": {
     "delete_cmd_postfix": ") ",
     "delete_cmd_prefix": "rm(",
     "library": "var_list.r",
     "varRefreshCmd": "cat(var_dic_list()) "
    }
   },
   "types_to_exclude": [
    "module",
    "function",
    "builtin_function_or_method",
    "instance",
    "_Feature"
   ],
   "window_display": false
  }
 },
 "nbformat": 4,
 "nbformat_minor": 2
}
