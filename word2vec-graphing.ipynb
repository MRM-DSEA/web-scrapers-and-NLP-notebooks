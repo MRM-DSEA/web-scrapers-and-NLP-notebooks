{
 "cells": [
  {
   "cell_type": "code",
   "execution_count": null,
   "id": "d1b26509",
   "metadata": {},
   "outputs": [],
   "source": [
    "import pandas as pd\n",
    "import numpy as np\n",
    "\n",
    "import re\n",
    "\n",
    "import matplotlib.pyplot as plt, mpld3\n",
    "\n",
    "import gensim\n",
    "import gensim.corpora as corpora\n",
    "from gensim.utils import simple_preprocess\n",
    "from gensim.models import Word2Vec\n",
    "from nltk.corpus import stopwords\n",
    "import spacy\n",
    "\n",
    "from sklearn.manifold import TSNE\n",
    "from sklearn.decomposition import PCA"
   ]
  },
  {
   "cell_type": "code",
   "execution_count": null,
   "id": "5413d6b9",
   "metadata": {},
   "outputs": [],
   "source": [
    "def sent_to_words(sentences):\n",
    "    for sentence in sentences:\n",
    "        yield(simple_preprocess(str(sentence), deacc=True))  # deacc=True removes punctuations\n",
    "        \n",
    "def remove_stopwords(texts):\n",
    "    return [[word for word in simple_preprocess(str(doc)) if word not in stop_words] for doc in texts]\n",
    "\n",
    "def make_bigrams(texts, bigram_mod):\n",
    "    return [bigram_mod[doc] for doc in texts]\n",
    "\n",
    "def lemmatization(texts, allowed_postags=['NOUN', 'ADJ', 'VERB', 'ADV']):\n",
    "    \"\"\"https://spacy.io/api/annotation\"\"\"\n",
    "    texts_out = []\n",
    "    for sent in texts:\n",
    "        try:\n",
    "          doc = nlp(\" \".join(sent)) \n",
    "          texts_out.append([token.lemma_ for token in doc if token.pos_ in allowed_postags])\n",
    "        except:\n",
    "          pass\n",
    "    return texts_out\n"
   ]
  },
  {
   "cell_type": "code",
   "execution_count": null,
   "id": "2d064dad",
   "metadata": {},
   "outputs": [],
   "source": [
    "def get_cleaned_data(csv_source_dict):\n",
    "    all_texts = []\n",
    "\n",
    "    for key in csv_source_dict.keys():\n",
    "        source_df = pd.read_csv(csv_source_dict[key]['path_to_csv'])\n",
    "        source_columns = csv_source_dict[key]['text_columns'].split(',')\n",
    "        \n",
    "        for column in source_columns:\n",
    "            all_texts.extend(source_df[column.strip()].unique().tolist())\n",
    "    \n",
    "    # Remove Emails\n",
    "    data = [re.sub('\\S*@\\S*\\s?', '', str(sent)) for sent in all_texts]\n",
    "    \n",
    "    # Remove new line characters\n",
    "    data = [re.sub('\\s+', ' ', sent) for sent in data]\n",
    "    \n",
    "    # Remove distracting single quotes\n",
    "    data = [re.sub(\"\\'\", \"\", sent) for sent in data]\n",
    "    \n",
    "    \n",
    "    data_words = list(sent_to_words(data))\n",
    "    \n",
    "    bigram = gensim.models.Phrases(data_words, min_count=5, threshold=100) # higher threshold fewer phrases\n",
    "    \n",
    "    bigram_mod = gensim.models.phrases.Phraser(bigram)\n",
    "    \n",
    "    # Remove Stop Words\n",
    "    data_words_nostops = remove_stopwords(data_words)\n",
    "    \n",
    "    # Form Bigrams\n",
    "    data_words_bigrams = make_bigrams(data_words_nostops, bigram_mod)\n",
    "    \n",
    "    # Do lemmatization keeping only noun, adj, vb, adv\n",
    "    data_lemmatized = lemmatization(data_words_bigrams, allowed_postags=['NOUN', 'ADJ', 'VERB', 'ADV'])\n",
    "    \n",
    "    # Create Corpus\n",
    "    return data_lemmatized"
   ]
  },
  {
   "cell_type": "code",
   "execution_count": null,
   "id": "ab979373",
   "metadata": {},
   "outputs": [],
   "source": [
    "def check_vocab_for_keywords(keywords, model):\n",
    "    all_vocab = []\n",
    "\n",
    "    for index, word in enumerate(model.wv.index_to_key):\n",
    "        all_vocab.append(word)\n",
    "        \n",
    "    for index, keyword in enumerate(keywords):\n",
    "        if keyword not in all_vocab:\n",
    "            keywords.pop(index)\n",
    "            print(keyword, \"is not in the vocabulary and has been removed from the keyword array\")\n",
    "    \n",
    "    return keywords"
   ]
  },
  {
   "cell_type": "code",
   "execution_count": null,
   "id": "08ad18bf",
   "metadata": {},
   "outputs": [],
   "source": [
    "def get_plot_values(keywords, model, plot_type='pca'):\n",
    "    labels = []\n",
    "    tokens = []\n",
    "    \n",
    "    x = []\n",
    "    y = []\n",
    "    \n",
    "    plot_values = ''\n",
    "    \n",
    "    for keyword in keywords:\n",
    "        tokens.append(model.wv[keyword])\n",
    "        labels.append(keyword)\n",
    "        \n",
    "    if plot_type == 'pca':\n",
    "        pca_model = PCA(random_state=23, n_components=2)\n",
    "        plot_values = pca_model.fit_transform(tokens)\n",
    "    elif plot_type == 'tsne':\n",
    "        tsne_model = TSNE(random_state=23, n_components=2)\n",
    "        plot_values = tsne_model.fit_transform(tokens)\n",
    "        \n",
    "    for value in plot_values:\n",
    "        x.append(value[0])\n",
    "        y.append(value[1])\n",
    "        \n",
    "    return x, y, labels\n",
    "        "
   ]
  },
  {
   "cell_type": "code",
   "execution_count": null,
   "id": "27f849f1",
   "metadata": {},
   "outputs": [],
   "source": [
    "def view_plot_in_notebook(x, y, labels):\n",
    "    plt.figure(figsize=(16, 16))\n",
    "    for i in range(len(x)):\n",
    "        plt.scatter(x[i],y[i])\n",
    "        plt.annotate(labels[i],\n",
    "            xy=(x[i], y[i]),\n",
    "            xytext=(5, 2),\n",
    "            textcoords='offset points',\n",
    "            ha='right',\n",
    "            va='bottom')\n",
    "\n",
    "    plt.show()"
   ]
  },
  {
   "cell_type": "code",
   "execution_count": null,
   "id": "514890e7",
   "metadata": {},
   "outputs": [],
   "source": [
    "def save_plot_to_html(x, y, labels, tooltip='no', filename='keyword-graph.html'):\n",
    "    \n",
    "    if tooltip == 'yes':\n",
    "        fig, ax = plt.subplots(figsize=(15,7.5))\n",
    "\n",
    "        scatter = ax.scatter(x, y, s=80)\n",
    "\n",
    "        tooltip = mpld3.plugins.PointLabelTooltip(scatter, labels=labels)\n",
    "\n",
    "        mpld3.plugins.connect(fig, tooltip)\n",
    "        \n",
    "        mpld3.save_html(fig, filename)\n",
    "        \n",
    "    else:\n",
    "        fig, ax = plt.subplots(figsize=(15,7.5))\n",
    "        \n",
    "        for i in range(len(x)):\n",
    "            ax.scatter(x[i],y[i])\n",
    "            ax.annotate(labels[i],\n",
    "                xy=(x[i], y[i]),\n",
    "                xytext=(x[i] - len(labels[i]), y[i] + 4))\n",
    "            \n",
    "        mpld3.save_html(fig, filename)\n",
    "    "
   ]
  },
  {
   "cell_type": "markdown",
   "id": "5de4c2ea",
   "metadata": {},
   "source": [
    "## Supply the csv path, and text columns (comma separated)"
   ]
  },
  {
   "cell_type": "code",
   "execution_count": null,
   "id": "1bf6ec93",
   "metadata": {},
   "outputs": [],
   "source": [
    "csv_source_dict = {\n",
    "    'source': {\n",
    "        'path_to_csv': '<path-to-csv>'\n",
    "        'text_columns': '<text-column>'\n",
    "    }\n",
    "}\n",
    "\n",
    "keywords = ['keyword1', 'keyword2']\n",
    "\n",
    "\n"
   ]
  },
  {
   "cell_type": "code",
   "execution_count": null,
   "id": "e52e0413",
   "metadata": {},
   "outputs": [],
   "source": [
    "# According to https://stackoverflow.com/questions/54573853/nltk-available-languages-for-stopwords\n",
    "# As of 2020 these languages are supported:\n",
    "\n",
    "# 'arabic', 'azerbaijani', 'danish', 'dutch', 'english', 'finnish', 'french', 'german', 'greek',\n",
    "# 'hungarian', 'indonesian', 'italian', 'kazakh', 'nepali', 'norwegian', 'portuguese', 'romanian',\n",
    "# 'russian', 'slovene', 'spanish', 'swedish', 'tajik', 'turkish'\n",
    "\n",
    "stop_words = stopwords.words('<language>')\n",
    "# stop_words = stopwords.words('portuguese')\n",
    "\n",
    "\n",
    "# Official documentation: https://spacy.io/models\n",
    "# Supporting the following langauges:\n",
    "\n",
    "# 'Chinese', 'Danish', 'Dutch', 'English', 'French', 'German', 'Greek', 'Italian', 'Japanese',\n",
    "# 'Lithuanian', 'Norwegian Bokmål', 'Polish', 'Portuguese', 'Romanian', 'Russian', 'Spanish'\n",
    "\n",
    "nlp = spacy.load('<language-model-name>')\n",
    "# nlp = spacy.load('pt_core_news_lg')"
   ]
  },
  {
   "cell_type": "code",
   "execution_count": null,
   "id": "626149a2",
   "metadata": {},
   "outputs": [],
   "source": [
    "texts = get_cleaned_data(csv_source_dict)"
   ]
  },
  {
   "cell_type": "code",
   "execution_count": null,
   "id": "d7feb35d",
   "metadata": {},
   "outputs": [],
   "source": [
    "model = Word2Vec(texts,min_count=1,workers=3,window=3,sg=1)"
   ]
  },
  {
   "cell_type": "code",
   "execution_count": null,
   "id": "e04e7923",
   "metadata": {},
   "outputs": [],
   "source": [
    "keywords = check_vocab_for_keywords(keywords, model)"
   ]
  },
  {
   "cell_type": "markdown",
   "id": "d826effb",
   "metadata": {},
   "source": [
    "## The following cell can also be plotted as PCA, if TSNE is takes up too many resources to run on your local machine."
   ]
  },
  {
   "cell_type": "code",
   "execution_count": null,
   "id": "d8220860",
   "metadata": {},
   "outputs": [],
   "source": [
    "x, y, labels = get_plot_values(keywords, model, 'tsne')"
   ]
  },
  {
   "cell_type": "code",
   "execution_count": null,
   "id": "a7847edd",
   "metadata": {},
   "outputs": [],
   "source": [
    "view_plot_in_notebook(x, y, labels)"
   ]
  },
  {
   "cell_type": "markdown",
   "id": "2ba3c856",
   "metadata": {},
   "source": [
    "## You can use the filename parameter to change the html filename, otherwise it will save as keyword-graph.html"
   ]
  },
  {
   "cell_type": "code",
   "execution_count": null,
   "id": "eca10a16",
   "metadata": {},
   "outputs": [],
   "source": [
    "save_plot_to_html(x, y, labels)"
   ]
  },
  {
   "cell_type": "markdown",
   "id": "28dc0dee",
   "metadata": {},
   "source": [
    "## Use the cell below if you want to look at all of the vocabulary in the supplied text"
   ]
  },
  {
   "cell_type": "code",
   "execution_count": null,
   "id": "2a5a7e35",
   "metadata": {},
   "outputs": [],
   "source": [
    "for index, word in enumerate(model.wv.index_to_key):\n",
    "    print(index, word)"
   ]
  }
 ],
 "metadata": {
  "kernelspec": {
   "display_name": "Python 3",
   "language": "python",
   "name": "python3"
  },
  "language_info": {
   "codemirror_mode": {
    "name": "ipython",
    "version": 3
   },
   "file_extension": ".py",
   "mimetype": "text/x-python",
   "name": "python",
   "nbconvert_exporter": "python",
   "pygments_lexer": "ipython3",
   "version": "3.8.8"
  }
 },
 "nbformat": 4,
 "nbformat_minor": 5
}
